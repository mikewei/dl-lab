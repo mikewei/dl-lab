{
 "cells": [
  {
   "cell_type": "code",
   "execution_count": 2,
   "metadata": {},
   "outputs": [],
   "source": [
    "import os\n",
    "import math\n",
    "import random\n",
    "import numpy as np\n",
    "import pandas as pd\n",
    "import torch\n",
    "from torch import nn\n",
    "from torch import utils\n",
    "from mdl import torch as mdl"
   ]
  },
  {
   "cell_type": "code",
   "execution_count": 3,
   "metadata": {},
   "outputs": [
    {
     "name": "stdout",
     "output_type": "stream",
     "text": [
      "              uid      iid      cid act          ts\n",
      "0               1  2333346  2520771  pv  1511561733\n",
      "1               1  2576651   149192  pv  1511572885\n",
      "2               1  3830808  4181361  pv  1511593493\n",
      "3               1  4365585  2520377  pv  1511596146\n",
      "4               1  4606018  2735466  pv  1511616481\n",
      "...           ...      ...      ...  ..         ...\n",
      "100150801  999999  4797808    11120  pv  1512293403\n",
      "100150802  999999  4613472  4602841  pv  1512293766\n",
      "100150803  999999  3647364  2304296  pv  1512293792\n",
      "100150804  999999  1903801  2304296  pv  1512293827\n",
      "100150805  999999  3696094  4602841  pv  1512293891\n",
      "\n",
      "[100150806 rows x 5 columns]\n"
     ]
    }
   ],
   "source": [
    "tb_data = pd.read_csv('/home/mikewei/tarball/UserBehavior.csv')\n",
    "tb_data.columns = ['uid', 'iid', 'cid', 'act', 'ts']\n",
    "\n",
    "print(tb_data)"
   ]
  },
  {
   "cell_type": "code",
   "execution_count": 4,
   "metadata": {},
   "outputs": [
    {
     "name": "stdout",
     "output_type": "stream",
     "text": [
      "uid: (1, 1018011, 987994)\n",
      "iid: (1, 5163070, 4162024)\n",
      "cid: (80, 5162429, 9439)\n",
      "act: ['pv' 'fav' 'buy' 'cart']\n"
     ]
    }
   ],
   "source": [
    "print(f'uid: {tb_data.uid.min(), tb_data.uid.max(), len(tb_data.uid.unique())}')\n",
    "print(f'iid: {tb_data.iid.min(), tb_data.iid.max(), len(tb_data.iid.unique())}')\n",
    "print(f'cid: {tb_data.cid.min(), tb_data.cid.max(), len(tb_data.cid.unique())}')\n",
    "print(f'act: {tb_data.act.unique()}')"
   ]
  },
  {
   "cell_type": "code",
   "execution_count": 62,
   "metadata": {},
   "outputs": [
    {
     "data": {
      "text/plain": [
       "(             uid     iid   cid  pv  fav  cart  buy          ts  ulen      neg  \\\n",
       " 0              0       0     0   1    0     0    0  1511544070     0   553991   \n",
       " 1              0       1     1   1    0     0    0  1511561733     1  2096907   \n",
       " 2              0       2     2   1    0     0    0  1511572885     2  3290336   \n",
       " 3              0       3     3   1    0     0    0  1511593493     3   261027   \n",
       " 4              0       4     0   1    0     0    0  1511596146     4  2638749   \n",
       " ...          ...     ...   ...  ..  ...   ...  ...         ...   ...      ...   \n",
       " 74983975  987993    7894   964   1    0     0    0  1512293252    36  2857250   \n",
       " 74983976  987993  635418  2360   1    0     0    0  1512293282    37  2891616   \n",
       " 74983977  987993  655781  2360   1    0     0    0  1512293403    38  1884042   \n",
       " 74983978  987993  638297   706   1    0     0    0  1512293792    39   358038   \n",
       " 74983979  987993   78548   706   1    0     0    0  1512293827    40  3054020   \n",
       " \n",
       "           negc  \n",
       " 0           11  \n",
       " 1          671  \n",
       " 2         1482  \n",
       " 3          619  \n",
       " 4          317  \n",
       " ...        ...  \n",
       " 74983975  6201  \n",
       " 74983976   166  \n",
       " 74983977   449  \n",
       " 74983978   284  \n",
       " 74983979   920  \n",
       " \n",
       " [74983980 rows x 11 columns],\n",
       "            uid      iid  cid  pv  fav  cart  buy          ts      tpos  \\\n",
       " 0            0       45   17   1    0     0    0  1512281847        45   \n",
       " 1            1      103   20   1    0     0    0  1512303987       102   \n",
       " 2            2      175   79   1    0     0    0  1512263887       173   \n",
       " 3            3      202   88   1    0     0    0  1512265168       199   \n",
       " 4            4      298   89   1    0     0    0  1512274992       294   \n",
       " ...        ...      ...  ...  ..  ...   ...  ...         ...       ...   \n",
       " 982790  987989  1067680  236   1    0     0    0  1512254380  74983712   \n",
       " 982791  987990    16318  104   1    0     0    0  1512303278  74983882   \n",
       " 982792  987991    15964   45   1    0     0    0  1512221499  74983899   \n",
       " 982793  987992   387202   49   1    0     0    0  1512276510  74983939   \n",
       " 982794  987993   333968  231   1    0     0    0  1512293891  74983980   \n",
       " \n",
       "             neg  negc  \n",
       " 0        646782   175  \n",
       " 1       2342208   451  \n",
       " 2       1829917     9  \n",
       " 3       2496623  1355  \n",
       " 4       1437643    18  \n",
       " ...         ...   ...  \n",
       " 982790  1220183   336  \n",
       " 982791  2851500   282  \n",
       " 982792  1489508   320  \n",
       " 982793   373148   654  \n",
       " 982794  3588204   584  \n",
       " \n",
       " [982795 rows x 11 columns])"
      ]
     },
     "execution_count": 62,
     "metadata": {},
     "output_type": "execute_result"
    }
   ],
   "source": [
    "train_df = pd.read_csv('/home/data/taobao/tb_data_train.csv')\n",
    "test_df = pd.read_csv('/home/data/taobao/tb_data_test.csv')\n",
    "train_df, test_df"
   ]
  },
  {
   "cell_type": "code",
   "execution_count": 134,
   "metadata": {},
   "outputs": [],
   "source": [
    "class TaobaoData(mdl.DataModule):\n",
    "    def __init__(self, batch_size=32):\n",
    "        super().__init__()\n",
    "        self.save_hyperparameters()\n",
    "        self.train_df = train_df\n",
    "        self.test_df = test_df\n",
    "        self.train_ds = TaobaoData.Dataset(self, True)\n",
    "        self.test_ds = TaobaoData.Dataset(self, False)\n",
    "    class Dataset:\n",
    "        def __init__(self, data, is_train=True):\n",
    "            self.data = data\n",
    "            self.is_train = is_train\n",
    "            self.df = self.data.train_df if self.is_train else self.data.test_df \n",
    "        def __len__(self):\n",
    "            return len(self.df)\n",
    "        def __getitem__(self, idx):\n",
    "            return (self.df.uid[idx], self.df.iid[idx], self.df.loc[idx, ['pv','fav','cart','buy']].to_numpy(), \n",
    "                    self.df.neg[idx], self.df.negc[idx])\n",
    "data = TaobaoData()"
   ]
  },
  {
   "cell_type": "code",
   "execution_count": 136,
   "metadata": {},
   "outputs": [
    {
     "data": {
      "text/plain": [
       "[tensor([0, 0]),\n",
       " tensor([0, 1]),\n",
       " tensor([[1, 0, 0, 0],\n",
       "         [1, 0, 0, 0]]),\n",
       " tensor([ 553991, 2096907]),\n",
       " tensor([ 11, 671])]"
      ]
     },
     "execution_count": 136,
     "metadata": {},
     "output_type": "execute_result"
    }
   ],
   "source": [
    "loader = torch.utils.data.DataLoader(data.train_ds, batch_size=2)\n",
    "next(iter(loader))"
   ]
  },
  {
   "cell_type": "code",
   "execution_count": 128,
   "metadata": {},
   "outputs": [
    {
     "name": "stdout",
     "output_type": "stream",
     "text": [
      "402 ns ± 1.4 ns per loop (mean ± std. dev. of 7 runs, 1,000,000 loops each)\n"
     ]
    }
   ],
   "source": [
    "# %timeit train_df.loc[234, ['pv','fav','cart','buy']].to_numpy()\n",
    "# %timeit train_df.loc[344, 'pv']\n",
    "# %timeit t = torch.tensor(arr2[2324, :])\n",
    "t1 = (train_df.pv.to_numpy())\n",
    "t2 = (train_df.fav.to_numpy())\n",
    "t3 = (np.array([t1, t2]))\n",
    "%timeit tt = torch.from_numpy(t3)"
   ]
  }
 ],
 "metadata": {
  "kernelspec": {
   "display_name": "base",
   "language": "python",
   "name": "python3"
  },
  "language_info": {
   "codemirror_mode": {
    "name": "ipython",
    "version": 3
   },
   "file_extension": ".py",
   "mimetype": "text/x-python",
   "name": "python",
   "nbconvert_exporter": "python",
   "pygments_lexer": "ipython3",
   "version": "3.10.9"
  }
 },
 "nbformat": 4,
 "nbformat_minor": 2
}
